{
 "cells": [
  {
   "cell_type": "code",
   "execution_count": 1,
   "id": "6a01836f",
   "metadata": {
    "_cell_guid": "b1076dfc-b9ad-4769-8c92-a6c4dae69d19",
    "_uuid": "8f2839f25d086af736a60e9eeb907d3b93b6e0e5",
    "execution": {
     "iopub.execute_input": "2025-02-13T09:51:33.128399Z",
     "iopub.status.busy": "2025-02-13T09:51:33.128007Z",
     "iopub.status.idle": "2025-02-13T09:51:33.969662Z",
     "shell.execute_reply": "2025-02-13T09:51:33.968395Z"
    },
    "papermill": {
     "duration": 0.849101,
     "end_time": "2025-02-13T09:51:33.971384",
     "exception": false,
     "start_time": "2025-02-13T09:51:33.122283",
     "status": "completed"
    },
    "tags": []
   },
   "outputs": [
    {
     "name": "stdout",
     "output_type": "stream",
     "text": [
      "/kaggle/input/widsdatathon2025/SAMPLE_SUBMISSION.xlsx\n",
      "/kaggle/input/widsdatathon2025/Data Dictionary.xlsx\n",
      "/kaggle/input/widsdatathon2025/TEST/TEST_FUNCTIONAL_CONNECTOME_MATRICES.csv\n",
      "/kaggle/input/widsdatathon2025/TEST/TEST_CATEGORICAL.xlsx\n",
      "/kaggle/input/widsdatathon2025/TEST/TEST_QUANTITATIVE_METADATA.xlsx\n",
      "/kaggle/input/widsdatathon2025/TRAIN/TRAIN_FUNCTIONAL_CONNECTOME_MATRICES.csv\n",
      "/kaggle/input/widsdatathon2025/TRAIN/TRAINING_SOLUTIONS.xlsx\n",
      "/kaggle/input/widsdatathon2025/TRAIN/TRAIN_CATEGORICAL_METADATA.xlsx\n",
      "/kaggle/input/widsdatathon2025/TRAIN/TRAIN_QUANTITATIVE_METADATA.xlsx\n"
     ]
    }
   ],
   "source": [
    "# This Python 3 environment comes with many helpful analytics libraries installed\n",
    "# It is defined by the kaggle/python Docker image: https://github.com/kaggle/docker-python\n",
    "# For example, here's several helpful packages to load\n",
    "\n",
    "import numpy as np # linear algebra\n",
    "import pandas as pd # data processing, CSV file I/O (e.g. pd.read_csv)\n",
    "\n",
    "# Input data files are available in the read-only \"../input/\" directory\n",
    "# For example, running this (by clicking run or pressing Shift+Enter) will list all files under the input directory\n",
    "\n",
    "import os\n",
    "for dirname, _, filenames in os.walk('/kaggle/input'):\n",
    "    for filename in filenames:\n",
    "        print(os.path.join(dirname, filename))\n",
    "\n",
    "# You can write up to 20GB to the current directory (/kaggle/working/) that gets preserved as output when you create a version using \"Save & Run All\" \n",
    "# You can also write temporary files to /kaggle/temp/, but they won't be saved outside of the current session"
   ]
  },
  {
   "cell_type": "code",
   "execution_count": 2,
   "id": "da8502db",
   "metadata": {
    "execution": {
     "iopub.execute_input": "2025-02-13T09:51:33.979108Z",
     "iopub.status.busy": "2025-02-13T09:51:33.978658Z",
     "iopub.status.idle": "2025-02-13T09:51:37.908195Z",
     "shell.execute_reply": "2025-02-13T09:51:37.906559Z"
    },
    "papermill": {
     "duration": 3.935226,
     "end_time": "2025-02-13T09:51:37.910303",
     "exception": false,
     "start_time": "2025-02-13T09:51:33.975077",
     "status": "completed"
    },
    "tags": []
   },
   "outputs": [],
   "source": [
    "#Create Dataframes of the Test Datasets \n",
    "testConnectome = pd.read_csv(f\"/kaggle/input/widsdatathon2025/TEST/TEST_FUNCTIONAL_CONNECTOME_MATRICES.csv\")\n",
    "testCategorical = pd.read_excel(f\"/kaggle/input/widsdatathon2025/TEST/TEST_CATEGORICAL.xlsx\")\n",
    "testQuantitative = pd.read_excel(f\"/kaggle/input/widsdatathon2025/TEST/TEST_QUANTITATIVE_METADATA.xlsx\")"
   ]
  },
  {
   "cell_type": "code",
   "execution_count": 3,
   "id": "e28b9c00",
   "metadata": {
    "execution": {
     "iopub.execute_input": "2025-02-13T09:51:37.918167Z",
     "iopub.status.busy": "2025-02-13T09:51:37.917659Z",
     "iopub.status.idle": "2025-02-13T09:51:37.955786Z",
     "shell.execute_reply": "2025-02-13T09:51:37.954527Z"
    },
    "papermill": {
     "duration": 0.044567,
     "end_time": "2025-02-13T09:51:37.958390",
     "exception": false,
     "start_time": "2025-02-13T09:51:37.913823",
     "status": "completed"
    },
    "tags": []
   },
   "outputs": [
    {
     "name": "stdout",
     "output_type": "stream",
     "text": [
      "<class 'pandas.core.frame.DataFrame'>\n",
      "RangeIndex: 304 entries, 0 to 303\n",
      "Data columns (total 10 columns):\n",
      " #   Column                            Non-Null Count  Dtype  \n",
      "---  ------                            --------------  -----  \n",
      " 0   participant_id                    304 non-null    object \n",
      " 1   Basic_Demos_Enroll_Year           304 non-null    int64  \n",
      " 2   Basic_Demos_Study_Site            304 non-null    int64  \n",
      " 3   PreInt_Demos_Fam_Child_Ethnicity  301 non-null    float64\n",
      " 4   PreInt_Demos_Fam_Child_Race       298 non-null    float64\n",
      " 5   MRI_Track_Scan_Location           304 non-null    int64  \n",
      " 6   Barratt_Barratt_P1_Edu            303 non-null    float64\n",
      " 7   Barratt_Barratt_P1_Occ            303 non-null    float64\n",
      " 8   Barratt_Barratt_P2_Edu            268 non-null    float64\n",
      " 9   Barratt_Barratt_P2_Occ            262 non-null    float64\n",
      "dtypes: float64(6), int64(3), object(1)\n",
      "memory usage: 23.9+ KB\n",
      "------------------\n",
      "<class 'pandas.core.frame.DataFrame'>\n",
      "RangeIndex: 304 entries, 0 to 303\n",
      "Data columns (total 19 columns):\n",
      " #   Column                      Non-Null Count  Dtype  \n",
      "---  ------                      --------------  -----  \n",
      " 0   participant_id              304 non-null    object \n",
      " 1   EHQ_EHQ_Total               303 non-null    float64\n",
      " 2   ColorVision_CV_Score        295 non-null    float64\n",
      " 3   APQ_P_APQ_P_CP              289 non-null    float64\n",
      " 4   APQ_P_APQ_P_ID              289 non-null    float64\n",
      " 5   APQ_P_APQ_P_INV             289 non-null    float64\n",
      " 6   APQ_P_APQ_P_OPD             289 non-null    float64\n",
      " 7   APQ_P_APQ_P_PM              289 non-null    float64\n",
      " 8   APQ_P_APQ_P_PP              289 non-null    float64\n",
      " 9   SDQ_SDQ_Conduct_Problems    274 non-null    float64\n",
      " 10  SDQ_SDQ_Difficulties_Total  274 non-null    float64\n",
      " 11  SDQ_SDQ_Emotional_Problems  274 non-null    float64\n",
      " 12  SDQ_SDQ_Externalizing       274 non-null    float64\n",
      " 13  SDQ_SDQ_Generating_Impact   274 non-null    float64\n",
      " 14  SDQ_SDQ_Hyperactivity       274 non-null    float64\n",
      " 15  SDQ_SDQ_Internalizing       274 non-null    float64\n",
      " 16  SDQ_SDQ_Peer_Problems       274 non-null    float64\n",
      " 17  SDQ_SDQ_Prosocial           274 non-null    float64\n",
      " 18  MRI_Track_Age_at_Scan       304 non-null    float64\n",
      "dtypes: float64(18), object(1)\n",
      "memory usage: 45.2+ KB\n"
     ]
    }
   ],
   "source": [
    "testCategorical.info()\n",
    "print(\"------------------\")\n",
    "testQuantitative.info()"
   ]
  },
  {
   "cell_type": "code",
   "execution_count": 4,
   "id": "d6014884",
   "metadata": {
    "execution": {
     "iopub.execute_input": "2025-02-13T09:51:37.966416Z",
     "iopub.status.busy": "2025-02-13T09:51:37.966061Z",
     "iopub.status.idle": "2025-02-13T09:51:50.746001Z",
     "shell.execute_reply": "2025-02-13T09:51:50.744551Z"
    },
    "papermill": {
     "duration": 12.785716,
     "end_time": "2025-02-13T09:51:50.747800",
     "exception": false,
     "start_time": "2025-02-13T09:51:37.962084",
     "status": "completed"
    },
    "tags": []
   },
   "outputs": [],
   "source": [
    "# Create Dataframes for Train dataset \n",
    "trainConnectome = pd.read_csv(f\"/kaggle/input/widsdatathon2025/TRAIN/TRAIN_FUNCTIONAL_CONNECTOME_MATRICES.csv\")\n",
    "trainQuantitative = pd.read_excel(f\"/kaggle/input/widsdatathon2025/TRAIN/TRAIN_QUANTITATIVE_METADATA.xlsx\")\n",
    "trainCategorical = pd.read_excel(f\"/kaggle/input/widsdatathon2025/TRAIN/TRAIN_CATEGORICAL_METADATA.xlsx\")\n",
    "trainSolution = pd.read_excel(f\"/kaggle/input/widsdatathon2025/TRAIN/TRAINING_SOLUTIONS.xlsx\")\n",
    "\n"
   ]
  },
  {
   "cell_type": "code",
   "execution_count": 5,
   "id": "3387e4d6",
   "metadata": {
    "execution": {
     "iopub.execute_input": "2025-02-13T09:51:50.756871Z",
     "iopub.status.busy": "2025-02-13T09:51:50.756473Z",
     "iopub.status.idle": "2025-02-13T09:51:50.771988Z",
     "shell.execute_reply": "2025-02-13T09:51:50.770555Z"
    },
    "papermill": {
     "duration": 0.022162,
     "end_time": "2025-02-13T09:51:50.774125",
     "exception": false,
     "start_time": "2025-02-13T09:51:50.751963",
     "status": "completed"
    },
    "tags": []
   },
   "outputs": [
    {
     "name": "stdout",
     "output_type": "stream",
     "text": [
      "<class 'pandas.core.frame.DataFrame'>\n",
      "RangeIndex: 1213 entries, 0 to 1212\n",
      "Data columns (total 10 columns):\n",
      " #   Column                            Non-Null Count  Dtype  \n",
      "---  ------                            --------------  -----  \n",
      " 0   participant_id                    1213 non-null   object \n",
      " 1   Basic_Demos_Enroll_Year           1213 non-null   int64  \n",
      " 2   Basic_Demos_Study_Site            1213 non-null   int64  \n",
      " 3   PreInt_Demos_Fam_Child_Ethnicity  1202 non-null   float64\n",
      " 4   PreInt_Demos_Fam_Child_Race       1213 non-null   int64  \n",
      " 5   MRI_Track_Scan_Location           1213 non-null   int64  \n",
      " 6   Barratt_Barratt_P1_Edu            1213 non-null   int64  \n",
      " 7   Barratt_Barratt_P1_Occ            1213 non-null   int64  \n",
      " 8   Barratt_Barratt_P2_Edu            1213 non-null   int64  \n",
      " 9   Barratt_Barratt_P2_Occ            1213 non-null   int64  \n",
      "dtypes: float64(1), int64(8), object(1)\n",
      "memory usage: 94.9+ KB\n",
      "------------------\n",
      "<class 'pandas.core.frame.DataFrame'>\n",
      "RangeIndex: 1213 entries, 0 to 1212\n",
      "Data columns (total 19 columns):\n",
      " #   Column                      Non-Null Count  Dtype  \n",
      "---  ------                      --------------  -----  \n",
      " 0   participant_id              1213 non-null   object \n",
      " 1   EHQ_EHQ_Total               1213 non-null   float64\n",
      " 2   ColorVision_CV_Score        1213 non-null   int64  \n",
      " 3   APQ_P_APQ_P_CP              1213 non-null   int64  \n",
      " 4   APQ_P_APQ_P_ID              1213 non-null   int64  \n",
      " 5   APQ_P_APQ_P_INV             1213 non-null   int64  \n",
      " 6   APQ_P_APQ_P_OPD             1213 non-null   int64  \n",
      " 7   APQ_P_APQ_P_PM              1213 non-null   int64  \n",
      " 8   APQ_P_APQ_P_PP              1213 non-null   int64  \n",
      " 9   SDQ_SDQ_Conduct_Problems    1213 non-null   int64  \n",
      " 10  SDQ_SDQ_Difficulties_Total  1213 non-null   int64  \n",
      " 11  SDQ_SDQ_Emotional_Problems  1213 non-null   int64  \n",
      " 12  SDQ_SDQ_Externalizing       1213 non-null   int64  \n",
      " 13  SDQ_SDQ_Generating_Impact   1213 non-null   int64  \n",
      " 14  SDQ_SDQ_Hyperactivity       1213 non-null   int64  \n",
      " 15  SDQ_SDQ_Internalizing       1213 non-null   int64  \n",
      " 16  SDQ_SDQ_Peer_Problems       1213 non-null   int64  \n",
      " 17  SDQ_SDQ_Prosocial           1213 non-null   int64  \n",
      " 18  MRI_Track_Age_at_Scan       853 non-null    float64\n",
      "dtypes: float64(2), int64(16), object(1)\n",
      "memory usage: 180.2+ KB\n"
     ]
    }
   ],
   "source": [
    "trainCategorical.info()\n",
    "print(\"------------------\")\n",
    "trainQuantitative.info()"
   ]
  },
  {
   "cell_type": "code",
   "execution_count": 6,
   "id": "5bdbdd97",
   "metadata": {
    "execution": {
     "iopub.execute_input": "2025-02-13T09:51:50.782433Z",
     "iopub.status.busy": "2025-02-13T09:51:50.782012Z",
     "iopub.status.idle": "2025-02-13T09:51:50.795983Z",
     "shell.execute_reply": "2025-02-13T09:51:50.794433Z"
    },
    "papermill": {
     "duration": 0.020295,
     "end_time": "2025-02-13T09:51:50.798211",
     "exception": false,
     "start_time": "2025-02-13T09:51:50.777916",
     "status": "completed"
    },
    "tags": []
   },
   "outputs": [],
   "source": [
    "# Combine the datasets on participant id \n",
    "testMerge = pd.merge(testQuantitative, testCategorical, on='participant_id', how='inner')"
   ]
  },
  {
   "cell_type": "code",
   "execution_count": 7,
   "id": "52b31e27",
   "metadata": {
    "execution": {
     "iopub.execute_input": "2025-02-13T09:51:50.806465Z",
     "iopub.status.busy": "2025-02-13T09:51:50.806055Z",
     "iopub.status.idle": "2025-02-13T09:51:50.813062Z",
     "shell.execute_reply": "2025-02-13T09:51:50.811894Z"
    },
    "papermill": {
     "duration": 0.013009,
     "end_time": "2025-02-13T09:51:50.814989",
     "exception": false,
     "start_time": "2025-02-13T09:51:50.801980",
     "status": "completed"
    },
    "tags": []
   },
   "outputs": [],
   "source": [
    "trainMerge = pd.merge(trainQuantitative, trainCategorical, on='participant_id', how='inner')"
   ]
  },
  {
   "cell_type": "code",
   "execution_count": 8,
   "id": "9c9631bb",
   "metadata": {
    "execution": {
     "iopub.execute_input": "2025-02-13T09:51:50.822664Z",
     "iopub.status.busy": "2025-02-13T09:51:50.822378Z",
     "iopub.status.idle": "2025-02-13T09:51:50.832080Z",
     "shell.execute_reply": "2025-02-13T09:51:50.830931Z"
    },
    "papermill": {
     "duration": 0.015387,
     "end_time": "2025-02-13T09:51:50.833943",
     "exception": false,
     "start_time": "2025-02-13T09:51:50.818556",
     "status": "completed"
    },
    "tags": []
   },
   "outputs": [],
   "source": [
    "# Handling Null values \n",
    "trainMerge_2 = trainMerge.fillna(trainMerge.median(numeric_only = True))"
   ]
  },
  {
   "cell_type": "code",
   "execution_count": 9,
   "id": "95348927",
   "metadata": {
    "execution": {
     "iopub.execute_input": "2025-02-13T09:51:50.842095Z",
     "iopub.status.busy": "2025-02-13T09:51:50.841731Z",
     "iopub.status.idle": "2025-02-13T09:51:50.854788Z",
     "shell.execute_reply": "2025-02-13T09:51:50.853309Z"
    },
    "papermill": {
     "duration": 0.018931,
     "end_time": "2025-02-13T09:51:50.856666",
     "exception": false,
     "start_time": "2025-02-13T09:51:50.837735",
     "status": "completed"
    },
    "tags": []
   },
   "outputs": [
    {
     "name": "stdout",
     "output_type": "stream",
     "text": [
      "<class 'pandas.core.frame.DataFrame'>\n",
      "RangeIndex: 1213 entries, 0 to 1212\n",
      "Data columns (total 28 columns):\n",
      " #   Column                            Non-Null Count  Dtype  \n",
      "---  ------                            --------------  -----  \n",
      " 0   participant_id                    1213 non-null   object \n",
      " 1   EHQ_EHQ_Total                     1213 non-null   float64\n",
      " 2   ColorVision_CV_Score              1213 non-null   int64  \n",
      " 3   APQ_P_APQ_P_CP                    1213 non-null   int64  \n",
      " 4   APQ_P_APQ_P_ID                    1213 non-null   int64  \n",
      " 5   APQ_P_APQ_P_INV                   1213 non-null   int64  \n",
      " 6   APQ_P_APQ_P_OPD                   1213 non-null   int64  \n",
      " 7   APQ_P_APQ_P_PM                    1213 non-null   int64  \n",
      " 8   APQ_P_APQ_P_PP                    1213 non-null   int64  \n",
      " 9   SDQ_SDQ_Conduct_Problems          1213 non-null   int64  \n",
      " 10  SDQ_SDQ_Difficulties_Total        1213 non-null   int64  \n",
      " 11  SDQ_SDQ_Emotional_Problems        1213 non-null   int64  \n",
      " 12  SDQ_SDQ_Externalizing             1213 non-null   int64  \n",
      " 13  SDQ_SDQ_Generating_Impact         1213 non-null   int64  \n",
      " 14  SDQ_SDQ_Hyperactivity             1213 non-null   int64  \n",
      " 15  SDQ_SDQ_Internalizing             1213 non-null   int64  \n",
      " 16  SDQ_SDQ_Peer_Problems             1213 non-null   int64  \n",
      " 17  SDQ_SDQ_Prosocial                 1213 non-null   int64  \n",
      " 18  MRI_Track_Age_at_Scan             1213 non-null   float64\n",
      " 19  Basic_Demos_Enroll_Year           1213 non-null   int64  \n",
      " 20  Basic_Demos_Study_Site            1213 non-null   int64  \n",
      " 21  PreInt_Demos_Fam_Child_Ethnicity  1213 non-null   float64\n",
      " 22  PreInt_Demos_Fam_Child_Race       1213 non-null   int64  \n",
      " 23  MRI_Track_Scan_Location           1213 non-null   int64  \n",
      " 24  Barratt_Barratt_P1_Edu            1213 non-null   int64  \n",
      " 25  Barratt_Barratt_P1_Occ            1213 non-null   int64  \n",
      " 26  Barratt_Barratt_P2_Edu            1213 non-null   int64  \n",
      " 27  Barratt_Barratt_P2_Occ            1213 non-null   int64  \n",
      "dtypes: float64(3), int64(24), object(1)\n",
      "memory usage: 265.5+ KB\n"
     ]
    }
   ],
   "source": [
    "trainMerge_2.info()"
   ]
  },
  {
   "cell_type": "code",
   "execution_count": 10,
   "id": "a6b209f2",
   "metadata": {
    "execution": {
     "iopub.execute_input": "2025-02-13T09:51:50.864407Z",
     "iopub.status.busy": "2025-02-13T09:51:50.864088Z",
     "iopub.status.idle": "2025-02-13T09:51:50.879103Z",
     "shell.execute_reply": "2025-02-13T09:51:50.877494Z"
    },
    "papermill": {
     "duration": 0.020784,
     "end_time": "2025-02-13T09:51:50.881017",
     "exception": false,
     "start_time": "2025-02-13T09:51:50.860233",
     "status": "completed"
    },
    "tags": []
   },
   "outputs": [
    {
     "name": "stdout",
     "output_type": "stream",
     "text": [
      "<class 'pandas.core.frame.DataFrame'>\n",
      "RangeIndex: 1213 entries, 0 to 1212\n",
      "Data columns (total 30 columns):\n",
      " #   Column                            Non-Null Count  Dtype  \n",
      "---  ------                            --------------  -----  \n",
      " 0   participant_id                    1213 non-null   object \n",
      " 1   EHQ_EHQ_Total                     1213 non-null   float64\n",
      " 2   ColorVision_CV_Score              1213 non-null   int64  \n",
      " 3   APQ_P_APQ_P_CP                    1213 non-null   int64  \n",
      " 4   APQ_P_APQ_P_ID                    1213 non-null   int64  \n",
      " 5   APQ_P_APQ_P_INV                   1213 non-null   int64  \n",
      " 6   APQ_P_APQ_P_OPD                   1213 non-null   int64  \n",
      " 7   APQ_P_APQ_P_PM                    1213 non-null   int64  \n",
      " 8   APQ_P_APQ_P_PP                    1213 non-null   int64  \n",
      " 9   SDQ_SDQ_Conduct_Problems          1213 non-null   int64  \n",
      " 10  SDQ_SDQ_Difficulties_Total        1213 non-null   int64  \n",
      " 11  SDQ_SDQ_Emotional_Problems        1213 non-null   int64  \n",
      " 12  SDQ_SDQ_Externalizing             1213 non-null   int64  \n",
      " 13  SDQ_SDQ_Generating_Impact         1213 non-null   int64  \n",
      " 14  SDQ_SDQ_Hyperactivity             1213 non-null   int64  \n",
      " 15  SDQ_SDQ_Internalizing             1213 non-null   int64  \n",
      " 16  SDQ_SDQ_Peer_Problems             1213 non-null   int64  \n",
      " 17  SDQ_SDQ_Prosocial                 1213 non-null   int64  \n",
      " 18  MRI_Track_Age_at_Scan             853 non-null    float64\n",
      " 19  Basic_Demos_Enroll_Year           1213 non-null   int64  \n",
      " 20  Basic_Demos_Study_Site            1213 non-null   int64  \n",
      " 21  PreInt_Demos_Fam_Child_Ethnicity  1202 non-null   float64\n",
      " 22  PreInt_Demos_Fam_Child_Race       1213 non-null   int64  \n",
      " 23  MRI_Track_Scan_Location           1213 non-null   int64  \n",
      " 24  Barratt_Barratt_P1_Edu            1213 non-null   int64  \n",
      " 25  Barratt_Barratt_P1_Occ            1213 non-null   int64  \n",
      " 26  Barratt_Barratt_P2_Edu            1213 non-null   int64  \n",
      " 27  Barratt_Barratt_P2_Occ            1213 non-null   int64  \n",
      " 28  ADHD_Outcome                      1213 non-null   int64  \n",
      " 29  Sex_F                             1213 non-null   int64  \n",
      "dtypes: float64(3), int64(26), object(1)\n",
      "memory usage: 284.4+ KB\n"
     ]
    }
   ],
   "source": [
    "# Merging Solution to Train dataset \n",
    "trainSolution = pd.merge(trainMerge, trainSolution, on='participant_id', how='inner')\n",
    "trainSolution.info()"
   ]
  },
  {
   "cell_type": "code",
   "execution_count": 11,
   "id": "bbe3070d",
   "metadata": {
    "execution": {
     "iopub.execute_input": "2025-02-13T09:51:50.890059Z",
     "iopub.status.busy": "2025-02-13T09:51:50.889655Z",
     "iopub.status.idle": "2025-02-13T09:51:50.939776Z",
     "shell.execute_reply": "2025-02-13T09:51:50.938503Z"
    },
    "papermill": {
     "duration": 0.056413,
     "end_time": "2025-02-13T09:51:50.941701",
     "exception": false,
     "start_time": "2025-02-13T09:51:50.885288",
     "status": "completed"
    },
    "tags": []
   },
   "outputs": [
    {
     "data": {
      "text/plain": [
       "Series([], dtype: int64)"
      ]
     },
     "execution_count": 11,
     "metadata": {},
     "output_type": "execute_result"
    }
   ],
   "source": [
    "null_counts = trainConnectome.isnull().sum()\n",
    "\n",
    "# Filter features with at least one null\n",
    "features_with_nulls = null_counts[null_counts > 0]\n",
    "\n",
    "features_with_nulls "
   ]
  },
  {
   "cell_type": "code",
   "execution_count": 12,
   "id": "650a4061",
   "metadata": {
    "execution": {
     "iopub.execute_input": "2025-02-13T09:51:50.950214Z",
     "iopub.status.busy": "2025-02-13T09:51:50.949841Z",
     "iopub.status.idle": "2025-02-13T09:51:50.975762Z",
     "shell.execute_reply": "2025-02-13T09:51:50.974390Z"
    },
    "papermill": {
     "duration": 0.032324,
     "end_time": "2025-02-13T09:51:50.977903",
     "exception": false,
     "start_time": "2025-02-13T09:51:50.945579",
     "status": "completed"
    },
    "tags": []
   },
   "outputs": [
    {
     "data": {
      "text/plain": [
       "Series([], dtype: int64)"
      ]
     },
     "execution_count": 12,
     "metadata": {},
     "output_type": "execute_result"
    }
   ],
   "source": [
    "null_counts2 = testConnectome.isnull().sum()\n",
    "\n",
    "# Filter features with at least one null\n",
    "features_with_nulls2 = null_counts2[null_counts2 > 0]\n",
    "\n",
    "features_with_nulls2"
   ]
  },
  {
   "cell_type": "code",
   "execution_count": 13,
   "id": "89d2f013",
   "metadata": {
    "execution": {
     "iopub.execute_input": "2025-02-13T09:51:50.986563Z",
     "iopub.status.busy": "2025-02-13T09:51:50.986177Z",
     "iopub.status.idle": "2025-02-13T09:51:51.972081Z",
     "shell.execute_reply": "2025-02-13T09:51:51.971297Z"
    },
    "papermill": {
     "duration": 0.991903,
     "end_time": "2025-02-13T09:51:51.973637",
     "exception": false,
     "start_time": "2025-02-13T09:51:50.981734",
     "status": "completed"
    },
    "tags": []
   },
   "outputs": [
    {
     "name": "stdout",
     "output_type": "stream",
     "text": [
      "<class 'pandas.core.frame.DataFrame'>\n",
      "RangeIndex: 1213 entries, 0 to 1212\n",
      "Columns: 19930 entries, participant_id to 198throw_199thcolumn\n",
      "dtypes: float64(19903), int64(26), object(1)\n",
      "memory usage: 184.4+ MB\n"
     ]
    }
   ],
   "source": [
    "trainSolution_Con =  pd.merge(trainSolution,trainConnectome, on='participant_id', how='inner')\n",
    "trainSolution_Con.info()"
   ]
  },
  {
   "cell_type": "code",
   "execution_count": 14,
   "id": "a783aa05",
   "metadata": {
    "execution": {
     "iopub.execute_input": "2025-02-13T09:51:51.982194Z",
     "iopub.status.busy": "2025-02-13T09:51:51.981806Z",
     "iopub.status.idle": "2025-02-13T09:51:52.732213Z",
     "shell.execute_reply": "2025-02-13T09:51:52.731496Z"
    },
    "papermill": {
     "duration": 0.756382,
     "end_time": "2025-02-13T09:51:52.733785",
     "exception": false,
     "start_time": "2025-02-13T09:51:51.977403",
     "status": "completed"
    },
    "tags": []
   },
   "outputs": [
    {
     "name": "stdout",
     "output_type": "stream",
     "text": [
      "<class 'pandas.core.frame.DataFrame'>\n",
      "RangeIndex: 304 entries, 0 to 303\n",
      "Columns: 19928 entries, participant_id to 198throw_199thcolumn\n",
      "dtypes: float64(19924), int64(3), object(1)\n",
      "memory usage: 46.2+ MB\n"
     ]
    }
   ],
   "source": [
    "test_Con =  pd.merge(testMerge,testConnectome, on='participant_id', how='inner')\n",
    "test_Con.info()"
   ]
  },
  {
   "cell_type": "code",
   "execution_count": 15,
   "id": "249666fe",
   "metadata": {
    "execution": {
     "iopub.execute_input": "2025-02-13T09:51:52.742365Z",
     "iopub.status.busy": "2025-02-13T09:51:52.742006Z",
     "iopub.status.idle": "2025-02-13T09:52:18.542550Z",
     "shell.execute_reply": "2025-02-13T09:52:18.541284Z"
    },
    "papermill": {
     "duration": 25.806232,
     "end_time": "2025-02-13T09:52:18.543969",
     "exception": false,
     "start_time": "2025-02-13T09:51:52.737737",
     "status": "completed"
    },
    "tags": []
   },
   "outputs": [
    {
     "name": "stdout",
     "output_type": "stream",
     "text": [
      "F1 Score for ADHD_Outcome: 0.8482\n",
      "F1 Score for Sex_F: 0.1013\n",
      "Predictions saved to submission_rf.csv\n"
     ]
    }
   ],
   "source": [
    "from sklearn.model_selection import train_test_split\n",
    "from sklearn.preprocessing import StandardScaler\n",
    "from sklearn.ensemble import RandomForestClassifier\n",
    "from sklearn.impute import SimpleImputer\n",
    "from sklearn.metrics import f1_score\n",
    "\n",
    "# Drop 'participant_id' from train and test data\n",
    "X_train = trainSolution_Con.drop(columns=['participant_id', 'ADHD_Outcome', 'Sex_F'])\n",
    "y_train = trainSolution_Con[['ADHD_Outcome', 'Sex_F']]\n",
    "X_test = test_Con.drop(columns=['participant_id'])\n",
    "\n",
    "# Handle missing values using mean imputation\n",
    "imputer = SimpleImputer(strategy='mean')\n",
    "X_train_imputed = imputer.fit_transform(X_train)\n",
    "X_test_imputed = imputer.transform(X_test)\n",
    "\n",
    "# Standardize the data\n",
    "scaler = StandardScaler()\n",
    "X_train_scaled = scaler.fit_transform(X_train_imputed)\n",
    "X_test_scaled = scaler.transform(X_test_imputed)\n",
    "\n",
    "# Split train data into training and validation sets for evaluation\n",
    "X_train_final, X_val, y_train_final, y_val = train_test_split(\n",
    "    X_train_scaled, y_train, test_size=0.2, random_state=42\n",
    ")\n",
    "\n",
    "# Train Random Forest Classifier for ADHD_Outcome and Sex_F separately\n",
    "rf_adhd = RandomForestClassifier(n_estimators=100, random_state=42)\n",
    "rf_sex = RandomForestClassifier(n_estimators=100, random_state=42)\n",
    "\n",
    "rf_adhd.fit(X_train_final, y_train_final['ADHD_Outcome'])\n",
    "rf_sex.fit(X_train_final, y_train_final['Sex_F'])\n",
    "\n",
    "# Make predictions on validation set\n",
    "val_pred_ADHD = rf_adhd.predict(X_val)\n",
    "val_pred_Sex_F = rf_sex.predict(X_val)\n",
    "\n",
    "# Calculate F1-score\n",
    "f1_adhd = f1_score(y_val['ADHD_Outcome'], val_pred_ADHD)\n",
    "f1_sex_f = f1_score(y_val['Sex_F'], val_pred_Sex_F)\n",
    "\n",
    "print(f\"F1 Score for ADHD_Outcome: {f1_adhd:.4f}\")\n",
    "print(f\"F1 Score for Sex_F: {f1_sex_f:.4f}\")\n",
    "\n",
    "# Make final predictions on test data\n",
    "predicted_ADHD = rf_adhd.predict(X_test_scaled)\n",
    "predicted_Sex_F = rf_sex.predict(X_test_scaled)\n",
    "\n",
    "# Create a DataFrame with participant_id and predictions\n",
    "test_predictions = test_Con[['participant_id']].copy()\n",
    "test_predictions['ADHD_Outcome'] = predicted_ADHD\n",
    "test_predictions['Sex_F'] = predicted_Sex_F\n",
    "\n",
    "# Save results to CSV\n",
    "test_predictions.to_csv(\"submission_rf.csv\", index=False)\n",
    "\n",
    "print(\"Predictions saved to submission_rf.csv\")\n"
   ]
  },
  {
   "cell_type": "code",
   "execution_count": 16,
   "id": "c0a4e0b0",
   "metadata": {
    "execution": {
     "iopub.execute_input": "2025-02-13T09:52:18.552752Z",
     "iopub.status.busy": "2025-02-13T09:52:18.552436Z",
     "iopub.status.idle": "2025-02-13T09:52:18.572548Z",
     "shell.execute_reply": "2025-02-13T09:52:18.570946Z"
    },
    "papermill": {
     "duration": 0.026166,
     "end_time": "2025-02-13T09:52:18.574347",
     "exception": false,
     "start_time": "2025-02-13T09:52:18.548181",
     "status": "completed"
    },
    "tags": []
   },
   "outputs": [
    {
     "data": {
      "text/html": [
       "<div>\n",
       "<style scoped>\n",
       "    .dataframe tbody tr th:only-of-type {\n",
       "        vertical-align: middle;\n",
       "    }\n",
       "\n",
       "    .dataframe tbody tr th {\n",
       "        vertical-align: top;\n",
       "    }\n",
       "\n",
       "    .dataframe thead th {\n",
       "        text-align: right;\n",
       "    }\n",
       "</style>\n",
       "<table border=\"1\" class=\"dataframe\">\n",
       "  <thead>\n",
       "    <tr style=\"text-align: right;\">\n",
       "      <th></th>\n",
       "      <th>participant_id</th>\n",
       "      <th>ADHD_Outcome</th>\n",
       "      <th>Sex_F</th>\n",
       "    </tr>\n",
       "  </thead>\n",
       "  <tbody>\n",
       "    <tr>\n",
       "      <th>0</th>\n",
       "      <td>Cfwaf5FX7jWK</td>\n",
       "      <td>1</td>\n",
       "      <td>1</td>\n",
       "    </tr>\n",
       "    <tr>\n",
       "      <th>1</th>\n",
       "      <td>vhGrzmvA3Hjq</td>\n",
       "      <td>1</td>\n",
       "      <td>1</td>\n",
       "    </tr>\n",
       "    <tr>\n",
       "      <th>2</th>\n",
       "      <td>ULliyEXjy4OV</td>\n",
       "      <td>0</td>\n",
       "      <td>1</td>\n",
       "    </tr>\n",
       "    <tr>\n",
       "      <th>3</th>\n",
       "      <td>LZfeAb1xMtql</td>\n",
       "      <td>1</td>\n",
       "      <td>1</td>\n",
       "    </tr>\n",
       "    <tr>\n",
       "      <th>4</th>\n",
       "      <td>EnFOUv0YK1RG</td>\n",
       "      <td>1</td>\n",
       "      <td>1</td>\n",
       "    </tr>\n",
       "    <tr>\n",
       "      <th>...</th>\n",
       "      <td>...</td>\n",
       "      <td>...</td>\n",
       "      <td>...</td>\n",
       "    </tr>\n",
       "    <tr>\n",
       "      <th>299</th>\n",
       "      <td>UadZfjdEg7eG</td>\n",
       "      <td>0</td>\n",
       "      <td>1</td>\n",
       "    </tr>\n",
       "    <tr>\n",
       "      <th>300</th>\n",
       "      <td>IUEHiLmQAqCi</td>\n",
       "      <td>1</td>\n",
       "      <td>0</td>\n",
       "    </tr>\n",
       "    <tr>\n",
       "      <th>301</th>\n",
       "      <td>cRySmCadYFRO</td>\n",
       "      <td>0</td>\n",
       "      <td>1</td>\n",
       "    </tr>\n",
       "    <tr>\n",
       "      <th>302</th>\n",
       "      <td>E3MvDUtJadc5</td>\n",
       "      <td>0</td>\n",
       "      <td>1</td>\n",
       "    </tr>\n",
       "    <tr>\n",
       "      <th>303</th>\n",
       "      <td>dQJXfyRazknD</td>\n",
       "      <td>0</td>\n",
       "      <td>1</td>\n",
       "    </tr>\n",
       "  </tbody>\n",
       "</table>\n",
       "<p>304 rows × 3 columns</p>\n",
       "</div>"
      ],
      "text/plain": [
       "    participant_id  ADHD_Outcome  Sex_F\n",
       "0     Cfwaf5FX7jWK             1      1\n",
       "1     vhGrzmvA3Hjq             1      1\n",
       "2     ULliyEXjy4OV             0      1\n",
       "3     LZfeAb1xMtql             1      1\n",
       "4     EnFOUv0YK1RG             1      1\n",
       "..             ...           ...    ...\n",
       "299   UadZfjdEg7eG             0      1\n",
       "300   IUEHiLmQAqCi             1      0\n",
       "301   cRySmCadYFRO             0      1\n",
       "302   E3MvDUtJadc5             0      1\n",
       "303   dQJXfyRazknD             0      1\n",
       "\n",
       "[304 rows x 3 columns]"
      ]
     },
     "execution_count": 16,
     "metadata": {},
     "output_type": "execute_result"
    }
   ],
   "source": [
    "test_predictions\n"
   ]
  }
 ],
 "metadata": {
  "kaggle": {
   "accelerator": "none",
   "dataSources": [
    {
     "databundleVersionId": 10712530,
     "sourceId": 90566,
     "sourceType": "competition"
    }
   ],
   "dockerImageVersionId": 30886,
   "isGpuEnabled": false,
   "isInternetEnabled": true,
   "language": "python",
   "sourceType": "notebook"
  },
  "kernelspec": {
   "display_name": "Python 3",
   "language": "python",
   "name": "python3"
  },
  "language_info": {
   "codemirror_mode": {
    "name": "ipython",
    "version": 3
   },
   "file_extension": ".py",
   "mimetype": "text/x-python",
   "name": "python",
   "nbconvert_exporter": "python",
   "pygments_lexer": "ipython3",
   "version": "3.10.12"
  },
  "papermill": {
   "default_parameters": {},
   "duration": 48.659691,
   "end_time": "2025-02-13T09:52:19.500717",
   "environment_variables": {},
   "exception": null,
   "input_path": "__notebook__.ipynb",
   "output_path": "__notebook__.ipynb",
   "parameters": {},
   "start_time": "2025-02-13T09:51:30.841026",
   "version": "2.6.0"
  }
 },
 "nbformat": 4,
 "nbformat_minor": 5
}
