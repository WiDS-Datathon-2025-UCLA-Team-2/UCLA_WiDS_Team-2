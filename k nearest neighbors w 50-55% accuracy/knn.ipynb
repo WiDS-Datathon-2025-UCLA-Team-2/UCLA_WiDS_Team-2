{
  "nbformat": 4,
  "nbformat_minor": 0,
  "metadata": {
    "colab": {
      "provenance": []
    },
    "kernelspec": {
      "name": "python3",
      "display_name": "Python 3"
    },
    "language_info": {
      "name": "python"
    }
  },
  "cells": [
    {
      "cell_type": "code",
      "source": [
        "from google.colab import drive\n",
        "drive.mount('/content/drive/')"
      ],
      "metadata": {
        "id": "L4FFTPD9wqYz"
      },
      "execution_count": null,
      "outputs": []
    },
    {
      "cell_type": "code",
      "execution_count": null,
      "metadata": {
        "id": "0zAT4jbRqVo8"
      },
      "outputs": [],
      "source": [
        "import os\n",
        "#The os.chdir() function in Python changes the current working\n",
        "#directory for the duration of the Python script's execution.\n",
        "os.chdir('drive/MyDrive/UCLA_WiDS_Team 2/DATA/TRAIN')"
      ]
    },
    {
      "cell_type": "code",
      "source": [
        "import pandas as pd\n",
        "import numpy as np\n",
        "import os\n",
        "import matplotlib.pyplot as plt\n",
        "import seaborn as sns"
      ],
      "metadata": {
        "id": "CwQDcap1wsO_"
      },
      "execution_count": null,
      "outputs": []
    },
    {
      "cell_type": "code",
      "source": [
        "from sklearn.neighbors import KNeighborsClassifier\n",
        "from sklearn.model_selection import train_test_split\n",
        "from sklearn.metrics import accuracy_score"
      ],
      "metadata": {
        "id": "WvvYbXT-B-k3"
      },
      "execution_count": null,
      "outputs": []
    },
    {
      "cell_type": "code",
      "source": [
        "train_df = pd.read_csv('train_data.csv')\n",
        "train_df"
      ],
      "metadata": {
        "id": "cKecozmMB8U_"
      },
      "execution_count": null,
      "outputs": []
    },
    {
      "cell_type": "code",
      "source": [
        "print(os.getcwd())\n",
        "os.chdir('../TEST')\n",
        "print(os.getcwd())"
      ],
      "metadata": {
        "id": "cg9RfJIs1tBr"
      },
      "execution_count": null,
      "outputs": []
    },
    {
      "cell_type": "code",
      "source": [
        "test_df = pd.read_csv('test_data.csv')\n",
        "test_df"
      ],
      "metadata": {
        "id": "atV4HR_zegsk"
      },
      "execution_count": null,
      "outputs": []
    },
    {
      "cell_type": "code",
      "source": [
        "adhd = train_df['ADHD_Outcome']\n",
        "sex = train_df['Sex_F']"
      ],
      "metadata": {
        "id": "x88jL9dX3gfu"
      },
      "execution_count": null,
      "outputs": []
    },
    {
      "cell_type": "code",
      "source": [
        "num_adhd = train_df['ADHD_Outcome'].value_counts()\n",
        "num_adhd    #noticed the values are imbalanced"
      ],
      "metadata": {
        "id": "Jag8v9AYYQM6"
      },
      "execution_count": null,
      "outputs": []
    },
    {
      "cell_type": "code",
      "source": [
        "num_sex = train_df['Sex_F'].value_counts()\n",
        "num_sex     #noticed the values are imbalanced"
      ],
      "metadata": {
        "id": "EWwnUihFZDw4"
      },
      "execution_count": null,
      "outputs": []
    },
    {
      "cell_type": "code",
      "source": [
        "def drop_uncommon_columns(df1, df2):\n",
        "    # Find common columns\n",
        "    common_columns = df1.columns.intersection(df2.columns)\n",
        "\n",
        "    # Keep only common columns\n",
        "    df1 = df1[common_columns]\n",
        "    df2 = df2[common_columns]\n",
        "\n",
        "    return df1, df2\n",
        "\n",
        "train_df, test_df = drop_uncommon_columns(train_df, test_df)\n",
        "\n",
        "test_df"
      ],
      "metadata": {
        "id": "QlBX4Ycu1zhf"
      },
      "execution_count": null,
      "outputs": []
    },
    {
      "cell_type": "code",
      "source": [
        "train_df"
      ],
      "metadata": {
        "id": "KLOc0PBX23Au"
      },
      "execution_count": null,
      "outputs": []
    },
    {
      "cell_type": "code",
      "source": [
        "adhd"
      ],
      "metadata": {
        "id": "etSgBwvFyz5_"
      },
      "execution_count": null,
      "outputs": []
    },
    {
      "cell_type": "code",
      "source": [
        "sex"
      ],
      "metadata": {
        "id": "oaLI9MsYyRSW"
      },
      "execution_count": null,
      "outputs": []
    },
    {
      "cell_type": "markdown",
      "source": [
        "# PREDICTING ADHD"
      ],
      "metadata": {
        "id": "xdfK7vl0DTlg"
      }
    },
    {
      "cell_type": "code",
      "source": [
        "y = adhd\n",
        "X = train_df.drop(columns=['participant_id'], axis=1)"
      ],
      "metadata": {
        "id": "hasyVGn-zbIa"
      },
      "execution_count": null,
      "outputs": []
    },
    {
      "cell_type": "code",
      "source": [
        "X_train, X_test, y_train, y_test = train_test_split(X, y, test_size=0.35)"
      ],
      "metadata": {
        "id": "0uAzYR7dzcqn"
      },
      "execution_count": null,
      "outputs": []
    },
    {
      "cell_type": "code",
      "source": [
        "import joblib\n",
        "def train_test_knn(X_train, X_test, y_train, y_test, k):\n",
        "    '''\n",
        "    Fit a k Nearest Neighbors classifier to the training data X_train, y_train.\n",
        "    Return the accuracy of resulting predictions on the test data.\n",
        "    '''\n",
        "    model = KNeighborsClassifier(n_neighbors=3)\n",
        "    model.fit(X_train, y_train)\n",
        "    class_label_predictions= model.predict(X_test)\n",
        "    acc_score = accuracy_score(y_test, class_label_predictions)\n",
        "    return model, acc_score"
      ],
      "metadata": {
        "id": "ureXv27mzhbd"
      },
      "execution_count": null,
      "outputs": []
    },
    {
      "cell_type": "code",
      "source": [
        "k_values = [10,100,500]\n",
        "acc1 = []\n",
        "\n",
        "for k in k_values:\n",
        "    a_model, score = train_test_knn(X_train, X_test, y_train, y_test, k)\n",
        "    joblib.dump(a_model, 'knn_adhd_predict.pkl')\n",
        "    print('k=' + str(k) + ', accuracy score: ' + str(score))\n",
        "    acc1.append(float(score))"
      ],
      "metadata": {
        "id": "kedudG7C6LJn"
      },
      "execution_count": null,
      "outputs": []
    },
    {
      "cell_type": "markdown",
      "source": [
        "# PREDICTING SEX"
      ],
      "metadata": {
        "id": "QfHkJVxhDMnh"
      }
    },
    {
      "cell_type": "code",
      "source": [
        "y = sex\n",
        "X = train_df.drop(columns=['participant_id'], axis=1)"
      ],
      "metadata": {
        "id": "JrTyOQm69bq_"
      },
      "execution_count": null,
      "outputs": []
    },
    {
      "cell_type": "code",
      "source": [
        "X_train, X_test, y_train, y_test = train_test_split(X, y, test_size=0.3)"
      ],
      "metadata": {
        "id": "gViXS5_E1_9D"
      },
      "execution_count": null,
      "outputs": []
    },
    {
      "cell_type": "code",
      "source": [
        "k_values = [10,100,500]\n",
        "acc1 = []\n",
        "\n",
        "for k in k_values:\n",
        "    s_model, score = train_test_knn(X_train, X_test, y_train, y_test, k)\n",
        "    joblib.dump(s_model, 'knn_sex_predict.pkl')\n",
        "    print('k=' + str(k) + ', accuracy score: ' + str(score))\n",
        "    acc1.append(float(score))"
      ],
      "metadata": {
        "id": "jZ7yddJu2NbU"
      },
      "execution_count": null,
      "outputs": []
    },
    {
      "cell_type": "markdown",
      "source": [
        "# NOW FOR THE TESTING ON THE TEST DATA"
      ],
      "metadata": {
        "id": "qhsW5gKwWOQM"
      }
    },
    {
      "cell_type": "code",
      "source": [
        "test_df"
      ],
      "metadata": {
        "id": "jCZM1vNIUn8b"
      },
      "execution_count": null,
      "outputs": []
    },
    {
      "cell_type": "code",
      "source": [
        "test_df['ADHD_Outcome'] = \"\"\n",
        "test_df"
      ],
      "metadata": {
        "id": "3_VqX-bwUzVv"
      },
      "execution_count": null,
      "outputs": []
    },
    {
      "cell_type": "code",
      "source": [
        "X = test_df.drop(columns=['participant_id', 'ADHD_Outcome'], axis=1)\n",
        "test_df['ADHD_Outcome'] = a_model.predict(X)\n",
        "test_df['ADHD_Outcome']"
      ],
      "metadata": {
        "id": "gEhLNO526XH0"
      },
      "execution_count": null,
      "outputs": []
    },
    {
      "cell_type": "code",
      "source": [
        "test_df['Sex_F'] = \"\"\n",
        "test_df"
      ],
      "metadata": {
        "id": "9IFC9rh1YKX4"
      },
      "execution_count": null,
      "outputs": []
    },
    {
      "cell_type": "code",
      "source": [
        "X = test_df.drop(columns=['participant_id', 'Sex_F', 'ADHD_Outcome'], axis=1)\n",
        "test_df['Sex_F'] = s_model.predict(X)\n",
        "test_df['Sex_F']"
      ],
      "metadata": {
        "id": "z3uKBMA55huN"
      },
      "execution_count": null,
      "outputs": []
    },
    {
      "cell_type": "code",
      "source": [
        "df = test_df[['participant_id', 'ADHD_Outcome', 'Sex_F']]\n",
        "df"
      ],
      "metadata": {
        "id": "it4Y7EiDS_OE"
      },
      "execution_count": null,
      "outputs": []
    },
    {
      "cell_type": "code",
      "source": [
        "print(os.getcwd())\n",
        "os.chdir('../')\n",
        "print(os.getcwd())"
      ],
      "metadata": {
        "id": "Cyyi0lqaei7x"
      },
      "execution_count": null,
      "outputs": []
    },
    {
      "cell_type": "code",
      "source": [
        "filename = 'knn2_submission.csv'\n",
        "df.to_csv(filename, index=False)"
      ],
      "metadata": {
        "id": "D6kZOrcuYd3T"
      },
      "execution_count": null,
      "outputs": []
    },
    {
      "cell_type": "code",
      "source": [],
      "metadata": {
        "id": "uYl-nQi6Zb9z"
      },
      "execution_count": null,
      "outputs": []
    }
  ]
}